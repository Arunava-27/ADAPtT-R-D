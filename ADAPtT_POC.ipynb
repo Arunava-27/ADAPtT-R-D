{
  "nbformat": 4,
  "nbformat_minor": 0,
  "metadata": {
    "colab": {
      "provenance": [],
      "authorship_tag": "ABX9TyPWtJs/LX92QMWPcXjwkxve",
      "include_colab_link": true
    },
    "kernelspec": {
      "name": "python3",
      "display_name": "Python 3"
    },
    "language_info": {
      "name": "python"
    }
  },
  "cells": [
    {
      "cell_type": "markdown",
      "metadata": {
        "id": "view-in-github",
        "colab_type": "text"
      },
      "source": [
        "<a href=\"https://colab.research.google.com/github/Arunava-27/ADAPtT-R-D/blob/main/ADAPtT_POC.ipynb\" target=\"_parent\"><img src=\"https://colab.research.google.com/assets/colab-badge.svg\" alt=\"Open In Colab\"/></a>"
      ]
    },
    {
      "cell_type": "code",
      "execution_count": 4,
      "metadata": {
        "colab": {
          "base_uri": "https://localhost:8080/"
        },
        "id": "1ckTvdTTZ2N-",
        "outputId": "eba54a54-ba85-4315-93ad-687fb7e38a2b"
      },
      "outputs": [
        {
          "output_type": "stream",
          "name": "stdout",
          "text": [
            "Epoch 1/10\n",
            "1/1 - 1s - loss: 1.5939 - accuracy: 0.2000 - 726ms/epoch - 726ms/step\n",
            "Epoch 2/10\n",
            "1/1 - 0s - loss: 1.5822 - accuracy: 0.4000 - 12ms/epoch - 12ms/step\n",
            "Epoch 3/10\n",
            "1/1 - 0s - loss: 1.5708 - accuracy: 0.4000 - 12ms/epoch - 12ms/step\n",
            "Epoch 4/10\n",
            "1/1 - 0s - loss: 1.5595 - accuracy: 0.6000 - 12ms/epoch - 12ms/step\n",
            "Epoch 5/10\n",
            "1/1 - 0s - loss: 1.5486 - accuracy: 0.6000 - 11ms/epoch - 11ms/step\n",
            "Epoch 6/10\n",
            "1/1 - 0s - loss: 1.5379 - accuracy: 0.6000 - 9ms/epoch - 9ms/step\n",
            "Epoch 7/10\n",
            "1/1 - 0s - loss: 1.5276 - accuracy: 0.8000 - 10ms/epoch - 10ms/step\n",
            "Epoch 8/10\n",
            "1/1 - 0s - loss: 1.5175 - accuracy: 1.0000 - 9ms/epoch - 9ms/step\n",
            "Epoch 9/10\n",
            "1/1 - 0s - loss: 1.5074 - accuracy: 1.0000 - 9ms/epoch - 9ms/step\n",
            "Epoch 10/10\n",
            "1/1 - 0s - loss: 1.4971 - accuracy: 1.0000 - 10ms/epoch - 10ms/step\n",
            "Enter your prompt: view network connections\n",
            "1/1 [==============================] - 0s 64ms/step\n",
            "Suggested command: ping\n"
          ]
        }
      ],
      "source": [
        "import nltk\n",
        "from nltk.tokenize import word_tokenize\n",
        "from sklearn.feature_extraction.text import TfidfVectorizer\n",
        "from sklearn.model_selection import train_test_split\n",
        "from sklearn.linear_model import LogisticRegression\n",
        "from sklearn.metrics import accuracy_score\n",
        "import tensorflow as tf\n",
        "from tensorflow.keras.models import Sequential\n",
        "from tensorflow.keras.layers import Dense, Embedding, GlobalAveragePooling1D\n",
        "from tensorflow.keras.preprocessing.text import Tokenizer\n",
        "from tensorflow.keras.preprocessing.sequence import pad_sequences\n",
        "\n",
        "# Example dataset (replace with your actual dataset)\n",
        "commands = ['ping', 'traceroute', 'ifconfig', 'netstat', 'ipconfig']\n",
        "descriptions = [\n",
        "    'Send ICMP echo request to a network host',\n",
        "    'Trace the route to a network host',\n",
        "    'Display or configure network interface parameters',\n",
        "    'Display network connections and routing table',\n",
        "    'Display IP configuration information'\n",
        "]\n",
        "\n",
        "# Tokenize and preprocess the data\n",
        "tokenizer = Tokenizer()\n",
        "tokenizer.fit_on_texts(commands + descriptions)\n",
        "tokenized_commands = tokenizer.texts_to_sequences(commands)\n",
        "tokenized_descriptions = tokenizer.texts_to_sequences(descriptions)\n",
        "max_length = max(len(seq) for seq in tokenized_commands)\n",
        "padded_commands = pad_sequences(tokenized_commands, maxlen=max_length, padding='post')\n",
        "\n",
        "# Define and train a simple neural network model\n",
        "model = Sequential([\n",
        "    Embedding(len(tokenizer.word_index) + 1, 64, input_length=max_length),\n",
        "    GlobalAveragePooling1D(),\n",
        "    Dense(64, activation='relu'),\n",
        "    Dense(len(commands), activation='softmax')\n",
        "])\n",
        "\n",
        "model.compile(optimizer='adam', loss='sparse_categorical_crossentropy', metrics=['accuracy'])\n",
        "model.fit(padded_commands, tf.constant(range(len(commands))), epochs=10, verbose=2)\n",
        "\n",
        "# Example prediction\n",
        "# user_input = 'What command can I use to check network connections?'\n",
        "user_input = input(\"Enter your prompt: \")\n",
        "tokenized_input = tokenizer.texts_to_sequences([user_input])\n",
        "padded_input = pad_sequences(tokenized_input, maxlen=max_length, padding='post')\n",
        "predictions = model.predict(padded_input)\n",
        "predicted_index = tf.argmax(predictions, axis=1).numpy()[0]\n",
        "suggested_command = commands[predicted_index]\n",
        "print(f\"Suggested command: {suggested_command}\")"
      ]
    }
  ]
}